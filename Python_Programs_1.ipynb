{
 "cells": [
  {
   "cell_type": "markdown",
   "id": "8687682f",
   "metadata": {},
   "source": [
    "**1. Write a function named ‘MulTable(n)’ that takes one positive  integer ‘n’ as its parameter and prints out the multiplication table up until number 10 for all the numbers starting from the number 2  and till the integer ‘n’, in the following format**"
   ]
  },
  {
   "cell_type": "markdown",
   "id": "b68b6068",
   "metadata": {},
   "source": [
    "### Code 1"
   ]
  },
  {
   "cell_type": "code",
   "execution_count": 4,
   "id": "4c3cf604",
   "metadata": {},
   "outputs": [
    {
     "name": "stdout",
     "output_type": "stream",
     "text": [
      "9\n",
      "2 * 1 =  2    3 * 1 =  3    4 * 1 =  4    5 * 1 =  5    6 * 1 =  6    7 * 1 =  7    8 * 1 =  8    9 * 1 =  9    \n",
      "\n",
      "2 * 2 =  4    3 * 2 =  6    4 * 2 =  8    5 * 2 =  10    6 * 2 =  12    7 * 2 =  14    8 * 2 =  16    9 * 2 =  18    \n",
      "\n",
      "2 * 3 =  6    3 * 3 =  9    4 * 3 =  12    5 * 3 =  15    6 * 3 =  18    7 * 3 =  21    8 * 3 =  24    9 * 3 =  27    \n",
      "\n",
      "2 * 4 =  8    3 * 4 =  12    4 * 4 =  16    5 * 4 =  20    6 * 4 =  24    7 * 4 =  28    8 * 4 =  32    9 * 4 =  36    \n",
      "\n",
      "2 * 5 =  10    3 * 5 =  15    4 * 5 =  20    5 * 5 =  25    6 * 5 =  30    7 * 5 =  35    8 * 5 =  40    9 * 5 =  45    \n",
      "\n",
      "2 * 6 =  12    3 * 6 =  18    4 * 6 =  24    5 * 6 =  30    6 * 6 =  36    7 * 6 =  42    8 * 6 =  48    9 * 6 =  54    \n",
      "\n",
      "2 * 7 =  14    3 * 7 =  21    4 * 7 =  28    5 * 7 =  35    6 * 7 =  42    7 * 7 =  49    8 * 7 =  56    9 * 7 =  63    \n",
      "\n",
      "2 * 8 =  16    3 * 8 =  24    4 * 8 =  32    5 * 8 =  40    6 * 8 =  48    7 * 8 =  56    8 * 8 =  64    9 * 8 =  72    \n",
      "\n",
      "2 * 9 =  18    3 * 9 =  27    4 * 9 =  36    5 * 9 =  45    6 * 9 =  54    7 * 9 =  63    8 * 9 =  72    9 * 9 =  81    \n",
      "\n",
      "2 * 10 =  20    3 * 10 =  30    4 * 10 =  40    5 * 10 =  50    6 * 10 =  60    7 * 10 =  70    8 * 10 =  80    9 * 10 =  90    \n",
      "\n"
     ]
    }
   ],
   "source": [
    "def MulTable(n): #defination of fuction\n",
    "    m=2    # intializing the varibles\n",
    "    i=1\n",
    "    for i in range(1,11):   # for loop for i iteration\n",
    "        for m in range(2,n+1):  # nested for loop for m iteration\n",
    "            print(m,'*',i,'= ',m*i,end='    ')  # printing the data\n",
    "        print('\\n') # printing next line\n",
    "\n",
    "n= int(input()) # taking input as int\n",
    "MulTable(n) # calling the 'MulTable' function"
   ]
  },
  {
   "cell_type": "markdown",
   "id": "c2fb0ecb",
   "metadata": {},
   "source": [
    "**2. Create a class StringManipulation that receives a list of words wlist at the time of object creation. The class must have the following methods:**"
   ]
  },
  {
   "cell_type": "markdown",
   "id": "81cc50ba",
   "metadata": {},
   "source": [
    "### Code 2"
   ]
  },
  {
   "cell_type": "code",
   "execution_count": 15,
   "id": "9ecfb26b",
   "metadata": {},
   "outputs": [
    {
     "name": "stdout",
     "output_type": "stream",
     "text": [
      "1.Length of words in wlist: [4, 5, 6, 4, 3, 3, 6, 5, 5, 5, 4, 4, 3]\n",
      "2.Words starts with char in wlist: ['Lion', 'Tiger', 'lepord', 'wolf', 'cat', 'dog', 'cougar', 'madam', 'level', 'car2', 'wolf', 'cat']\n",
      "3.Words ends with char in wlist: ['Lion', 'Tiger', 'lepord', 'wolf', 'cat', 'dog', 'cougar', 'madam', 'level', '1king', 'wolf', 'cat']\n",
      "4.list of all the words that are palindromes in wlist: ['madam', 'level']\n",
      "5.Number of words in wlist : 13\n",
      "6.longest length word in wlist : lepord\n",
      "7.Smallest length word in wlist : cat\n",
      "8.total number of occurrences of word : {'Lion': 1, 'Tiger': 1, 'lepord': 1, 'wolf': 2, 'cat': 2, 'dog': 1, 'cougar': 1, 'madam': 1, 'level': 1, '1king': 1, 'car2': 1}\n"
     ]
    }
   ],
   "source": [
    "class StringManipulation(): # class intialization\n",
    "    def __init__(self,wlist): # class constructor\n",
    "        self.wlist = wlist\n",
    "        \n",
    "    def Words_of_length(self): # defination of Words_of_length method\n",
    "        l1=[]\n",
    "        for i in wlist:\n",
    "            l1.append(len(i)) # sorting length of each word into list\n",
    "        return l1\n",
    "    \n",
    "    def Words_starts_with(self): # defination of Words_starts_with method\n",
    "        l2=[]\n",
    "        for i in wlist:\n",
    "            if( (65<= ord(i[0]) <=90) or (97<= ord(i[0])<=122) ): \n",
    "                l2.append(i)\n",
    "        return l2\n",
    "    \n",
    "    def Words_ends_with(self): # defination of Words_ends_with method\n",
    "        l3=[]\n",
    "        for i in wlist:\n",
    "            n=len(i)-1\n",
    "            if( (65<= ord(i[n]) <=90) or (97<= ord(i[n])<=122) ):\n",
    "                l3.append(i)\n",
    "        return l3\n",
    "    \n",
    "    def Palindromes(self): # defination of Palindromes method\n",
    "        l4=[]\n",
    "        for i in wlist:\n",
    "            j = i[::-1]   # finding reverse of string\n",
    "            if(i==j):\n",
    "                l4.append(i)\n",
    "        return l4\n",
    "    \n",
    "    def Total_words(self): # defination of Total_words method\n",
    "        return (len(wlist))\n",
    "    \n",
    "    def Longest_word(self): # defination of Longest_word method\n",
    "        longest_word = max(wlist, key=len)\n",
    "        return longest_word\n",
    "    \n",
    "    def Smallest_word(self): # defination of Smallest_word method\n",
    "        smallest_word = min(wlist, key=len)\n",
    "        return smallest_word\n",
    "    \n",
    "    def Count(self): # defination of Count method\n",
    "        d={}    # intializing empty dictionery\n",
    "        for i in range(0,len(wlist)):\n",
    "            c=0\n",
    "            for j in range(0,len(wlist)):\n",
    "                if(wlist[i] == wlist[j]):\n",
    "                    c=c+1\n",
    "                    d[wlist[i]] = c\n",
    "        return d\n",
    "    \n",
    "wlist = ['Lion','Tiger','lepord','wolf','cat','dog','cougar','madam','level','1king','car2','wolf','cat'] # input list\n",
    "obj = StringManipulation(wlist) # creating the object for 'StringManipulation' class\n",
    "\n",
    "res1 = obj.Words_of_length() # calling Words_of_length method\n",
    "print(\"1.Length of words in wlist:\",res1) \n",
    "\n",
    "res2 = obj.Words_starts_with() # calling Words_starts_with method\n",
    "print(\"2.Words starts with char in wlist:\",res2)\n",
    "\n",
    "res3 = obj.Words_ends_with() # calling Words_ends_with method\n",
    "print(\"3.Words ends with char in wlist:\",res3)\n",
    "\n",
    "res4 = obj.Palindromes() # calling Palindromes method\n",
    "print(\"4.list of all the words that are palindromes in wlist:\",res4)\n",
    "\n",
    "res5 = obj.Total_words() # calling Total_words method\n",
    "print(\"5.Number of words in wlist :\",res5)\n",
    "\n",
    "res6 = obj.Longest_word() # calling Longest_word method\n",
    "print(\"6.longest length word in wlist :\",res6)\n",
    "\n",
    "res7 = obj.Smallest_word() # calling Smallest_word method\n",
    "print(\"7.Smallest length word in wlist :\",res7)\n",
    "\n",
    "res8 = obj.Count() # calling Count method\n",
    "print(\"8.total number of occurrences of word :\",res8)"
   ]
  },
  {
   "cell_type": "markdown",
   "id": "74526cab",
   "metadata": {},
   "source": [
    "**3. Implementing Pearson Correlation formula using python**"
   ]
  },
  {
   "cell_type": "markdown",
   "id": "5b258bbd",
   "metadata": {},
   "source": [
    "### Code 3"
   ]
  },
  {
   "cell_type": "code",
   "execution_count": 27,
   "id": "0cc6fa07",
   "metadata": {},
   "outputs": [
    {
     "name": "stdout",
     "output_type": "stream",
     "text": [
      "0.9\n"
     ]
    }
   ],
   "source": [
    "import math # import math library\n",
    "def pearson_correlation(x,y): # defination of pearson_correlation method\n",
    "    if (len(x) != len(y)): # checking length of two lists\n",
    "        return 0.0\n",
    "    else:\n",
    "        x_avg = sum(x)/len(x) # calculating mean of x\n",
    "        y_avg = sum(y)/len(y) # calculating mean of y\n",
    "        # intializing the varibles\n",
    "        correlation=0\n",
    "        numarator =0\n",
    "        denominator =0\n",
    "        denominator1 =0\n",
    "        denominator2 =0\n",
    "        for i in range(0,len(x)): # for loop for iterating\n",
    "            numarator = numarator + ((x[i]-x_avg) * (y[i]-y_avg)) # calculating numarator\n",
    "            denominator1 = denominator1 + (x[i]-x_avg)**2\n",
    "            denominator2 = denominator2 + (y[i]-y_avg)**2\n",
    "            denominator = math.sqrt(denominator1*denominator2) # calculating denominator\n",
    "        correlation = numarator/denominator # calculating correlation\n",
    "        return round(correlation,1) # returning the correlation by rounding up decimals by 1\n",
    "\n",
    "    \n",
    "x = [1,2,3,4,5,6,7,8,9]  # input x list\n",
    "y = [1,2,3,2,3,4,3,4,5]  # input y list\n",
    "x = [round(num,2) for num in x]  # rounding up numbers in x to 2\n",
    "y = [round(num,2) for num in y]  # rounding up numbers in y to 2\n",
    "\n",
    "correlation = pearson_correlation(x,y) # calling the 'pearson_correlation' function\n",
    "print(correlation) # printing correlation"
   ]
  },
  {
   "cell_type": "markdown",
   "id": "d8aef278",
   "metadata": {},
   "source": [
    "**4. Python Program for printing the pattern using star's(*) .**"
   ]
  },
  {
   "cell_type": "markdown",
   "id": "70f67b0b",
   "metadata": {},
   "source": [
    "## Code 4"
   ]
  },
  {
   "cell_type": "code",
   "execution_count": 32,
   "id": "9ca7a185",
   "metadata": {},
   "outputs": [
    {
     "name": "stdout",
     "output_type": "stream",
     "text": [
      "***************\n",
      "**     *     **\n",
      "* *    *    * *\n",
      "*  *   *   *  *\n",
      "*   *  *  *   *\n",
      "*    * * *    *\n",
      "*     ***     *\n",
      "***************\n",
      "*     ***     *\n",
      "*    * * *    *\n",
      "*   *  *  *   *\n",
      "*  *   *   *  *\n",
      "* *    *    * *\n",
      "**     *     **\n",
      "***************\n"
     ]
    }
   ],
   "source": [
    "n=15  # no of stars\n",
    "\n",
    "for i in range(0,n): # for loop for printing rows \n",
    "    for j in range(0,n): # for loop for printing columns\n",
    "        if(i == 0 or i == n - 1 or j == 0 or j == n - 1 or j==i or j==(n-1)-i or i==(n-1)/2 or j==(n-1)/2): # if condition for printing star's\n",
    "            print(\"*\", end='') # printing *'s\n",
    "        else:\n",
    "            print(' ', end='') # printing spaces in between the stars\n",
    "    print() # printing next line after completion of one row"
   ]
  },
  {
   "cell_type": "markdown",
   "id": "d93e77e1",
   "metadata": {},
   "source": [
    "**5. Python program to accept a string from the user that accepts (,),[,] and {,} in it. Task is it verified all opened brackets should be closed with the same type of closing bracket.**"
   ]
  },
  {
   "cell_type": "markdown",
   "id": "abfacad5",
   "metadata": {},
   "source": [
    "### Code 5"
   ]
  },
  {
   "cell_type": "code",
   "execution_count": 42,
   "id": "06d2d4e0",
   "metadata": {},
   "outputs": [
    {
     "name": "stdout",
     "output_type": "stream",
     "text": [
      "(jhdhd}(sdddd){) : False\n",
      "a(h{g$2[j)h]h} : False\n",
      "{abc(ddd)ee[ff()dd]ee} : True\n",
      "[[]{()}] : True\n"
     ]
    }
   ],
   "source": [
    "def varify_brackets(input_str):  # defination of varify_brackets\n",
    "    s=[]  # empty list \n",
    "    for i in input_str: # iterating items in input string\n",
    "        if i in open_bracket:  # checking wheater i is in open_bracket\n",
    "            s.append(i)\n",
    "        elif i in close_bracket:   # checking wheater i is in close_bracket\n",
    "            p = close_bracket.index(i)\n",
    "            if ((len(s)>0) and (open_bracket[p] == s[len(s)-1])): \n",
    "                s.pop()  # removing last element from s\n",
    "            else:\n",
    "                return False\n",
    "    if (len(s) == 0):\n",
    "        return True\n",
    "    else:\n",
    "        return False    \n",
    "    \n",
    "    \n",
    "str1 = '(jhdhd}(sdddd){)' #input 1\n",
    "str2 = 'a(h{g$2[j)h]h}'   #input 2\n",
    "str3 = '{abc(ddd)ee[ff()dd]ee}'  #input 3\n",
    "str4 = \"[[]{()}]\"   #input 4\n",
    "\n",
    "open_bracket = [\"[\",\"{\",\"(\"]    # open brackets list\n",
    "close_bracket = [\"]\",\"}\",\")\"]   # close brackets list\n",
    "\n",
    "print('(jhdhd}(sdddd){) :',varify_brackets(str1)) # output 1\n",
    "print('a(h{g$2[j)h]h} :',varify_brackets(str2))   # output 2\n",
    "print('{abc(ddd)ee[ff()dd]ee} :',varify_brackets(str3))  # output 3\n",
    "print('[[]{()}] :',varify_brackets(str4))  # output 4"
   ]
  },
  {
   "cell_type": "code",
   "execution_count": null,
   "id": "baf12e7c",
   "metadata": {},
   "outputs": [],
   "source": [
    "n"
   ]
  }
 ],
 "metadata": {
  "kernelspec": {
   "display_name": "Python 3 (ipykernel)",
   "language": "python",
   "name": "python3"
  },
  "language_info": {
   "codemirror_mode": {
    "name": "ipython",
    "version": 3
   },
   "file_extension": ".py",
   "mimetype": "text/x-python",
   "name": "python",
   "nbconvert_exporter": "python",
   "pygments_lexer": "ipython3",
   "version": "3.9.7"
  }
 },
 "nbformat": 4,
 "nbformat_minor": 5
}
