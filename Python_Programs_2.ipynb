{
 "cells": [
  {
   "cell_type": "markdown",
   "id": "77d61d63",
   "metadata": {},
   "source": [
    "### 1. Write functions, along with proper code documentation and formatting;\n",
    "**A.To check whether a number is prime or not**"
   ]
  },
  {
   "cell_type": "code",
   "execution_count": 12,
   "id": "d25b40a9",
   "metadata": {},
   "outputs": [
    {
     "name": "stdout",
     "output_type": "stream",
     "text": [
      "17\n",
      "Given number is : Prime\n"
     ]
    }
   ],
   "source": [
    "def find_prime(n): # defination of function\n",
    "    c=0\n",
    "    for i in range(1,n+1):     \n",
    "        if(n%i == 0):           # checking the number is divisible by how many numbers\n",
    "            c=c+1\n",
    "    if(c==2):         # if number is divisible by only 2 numbers return prime\n",
    "        return \"Prime\"\n",
    "    else:           # if number is divisible by more than 2 numbers return Not a prime\n",
    "        return \"Not a Prime\" \n",
    "\n",
    "n = int(input())     # user input\n",
    "print(\"Given number is :\",find_prime(n))    # calling the function and printing the output return"
   ]
  },
  {
   "cell_type": "markdown",
   "id": "ca2da910",
   "metadata": {},
   "source": [
    "**B. To find the longest word in a sentence given as input by the user**"
   ]
  },
  {
   "cell_type": "code",
   "execution_count": 35,
   "id": "bcd6e24e",
   "metadata": {},
   "outputs": [
    {
     "name": "stdout",
     "output_type": "stream",
     "text": [
      "The train leaves every morning at 18 AM\n",
      "The Longest word in a sentence is : morning\n"
     ]
    }
   ],
   "source": [
    "def long_word(s):\n",
    "    s1 = s.split(' ')   # spliting the words by space in to a list\n",
    "    s2=''\n",
    "    max_n=0\n",
    "    for i in range(0,len(s1)):     # iterating through each item in list\n",
    "        n = len(s1[i])         # checking the length \n",
    "        if(n>max_n):\n",
    "            max_n = n\n",
    "            s2=s1[i]     \n",
    "    return s2     # returning the longest word\n",
    "    \n",
    "s = input()  # user input\n",
    "print(\"The Longest word in a sentence is :\",long_word(s))   # calling the function and printing the output return\n"
   ]
  },
  {
   "cell_type": "markdown",
   "id": "9417480b",
   "metadata": {},
   "source": [
    "**C. To find how many times a given user-inputted substring is repeated in another user inputted string**"
   ]
  },
  {
   "cell_type": "code",
   "execution_count": 46,
   "id": "7f13bfd9",
   "metadata": {},
   "outputs": [
    {
     "name": "stdout",
     "output_type": "stream",
     "text": [
      "dogcatliondogtigerdog\n",
      "dog\n",
      "Frequency of substring in given string is : 3\n"
     ]
    }
   ],
   "source": [
    "def find_occurrance(s1,s2):\n",
    "    res = 0\n",
    "    n = len(s2)      # length of substring\n",
    "    for i in range(len(s1)):      # iterating through eact character in a s1\n",
    "        # checking the s2 in s1 by increasing i by the length of s2\n",
    "        if s1[i:i+n] == s2:    \n",
    "            res += 1      \n",
    "    return res    # return no of occurrances\n",
    " \n",
    "s1 = input()   # string user input\n",
    "s2 = input()   # substring user input\n",
    "print(\"Frequency of substring in given string is :\",find_occurrance(s1,s2)) # calling the function and printing the output return\n"
   ]
  },
  {
   "cell_type": "markdown",
   "id": "b77c204d",
   "metadata": {},
   "source": [
    "### 2. Create the following class with the given attributes and methods;"
   ]
  },
  {
   "cell_type": "code",
   "execution_count": 89,
   "id": "6b6921f1",
   "metadata": {},
   "outputs": [
    {
     "name": "stdout",
     "output_type": "stream",
     "text": [
      "Name :  Uday\n",
      "Roll No :  23\n",
      "Standard :  9th standard\n",
      "GPA :  8.74\n"
     ]
    }
   ],
   "source": [
    "# A. Standard class\n",
    "class standard:\n",
    "    # defining constructor and assign the values\n",
    "    def __init__(self,std_name,no_of_enrolled_students,OGPA):\n",
    "        self.std_name = std_name\n",
    "        self.no_of_enrolled_students = no_of_enrolled_students\n",
    "        self.OGPA = OGPA\n",
    "    \n",
    "    # getStd Method\n",
    "    def getStd(self):\n",
    "        return self.std_name\n",
    "    # getEnrolled  Method\n",
    "    def getEnrolled(self):\n",
    "        return self.no_of_enrolled_students\n",
    "    # getOGPA Method\n",
    "    def getOGPA(self):\n",
    "        return self.OGPA\n",
    "    \n",
    "# B. Students class\n",
    "class Students(standard):\n",
    "     # defining constructor and assign the values\n",
    "    def __init__(self,Name,Roll_No,Standard_name,Math_marks,English_Marks,Science_Marks,Social_Marks):\n",
    "        self.Name = Name\n",
    "        self.Roll_No = Roll_No\n",
    "        self.Standard_name = Standard_name\n",
    "        self.Math_marks = Math_marks\n",
    "        self.English_Marks = English_Marks\n",
    "        self.Science_Marks = Science_Marks\n",
    "        self.Social_Marks = Social_Marks\n",
    "    # getName Method\n",
    "    def getName(self):\n",
    "        return self.Name\n",
    "    # getRollNo Method\n",
    "    def getRollNo(self):\n",
    "        return self.Roll_No\n",
    "    # getStd Method\n",
    "    def getStd(self):\n",
    "        return self.Standard_name\n",
    "    # getGPA Method\n",
    "    def getGPA(self):\n",
    "        avg_marks = (self.Math_marks+self.English_Marks+self.Science_Marks+self.Social_Marks)/4\n",
    "        gpa = avg_marks / 9.5      # calculating GPA value\n",
    "        return round(gpa,2)\n",
    "\n",
    "# C. creating the objects of each class\n",
    "# standard class objects\n",
    "std1 = standard('9th standard',40,9.0)\n",
    "std2 = standard('7th standard',45,8.9)\n",
    "\n",
    "# Students class objects\n",
    "student1 = Students('Uday','23','9th standard',88,92,77,75)\n",
    "student2 = Students('Ajun','44','7th standard',84,90,74,70)\n",
    "\n",
    "# Printing the details of student using getters method\n",
    "print(\"Name : \",student1.getName())       \n",
    "print(\"Roll No : \",student1.getRollNo())\n",
    "print(\"Standard : \",student1.getStd())\n",
    "print(\"GPA : \",student1.getGPA())\n"
   ]
  },
  {
   "cell_type": "markdown",
   "id": "9334d149",
   "metadata": {},
   "source": [
    "**3(a). Create a function to find the indices of a parameter passed to the function in a user inputted array. Ex: f(0,[1,2,0,0,4]) gives [2,3] as output**"
   ]
  },
  {
   "cell_type": "code",
   "execution_count": 94,
   "id": "fe7ac9c0",
   "metadata": {},
   "outputs": [
    {
     "name": "stdout",
     "output_type": "stream",
     "text": [
      "[2, 4]\n"
     ]
    }
   ],
   "source": [
    "def find_indices(n,lst):\n",
    "    l=[]    # intializing empty list for output storing\n",
    "    for i in range(len(lst)):       # itterating through the list\n",
    "        if(lst[i] == n):   \n",
    "            l.append(i)         # appending the indices\n",
    "    return l  \n",
    "    \n",
    "n = 5   # integer input\n",
    "lst = [1,4,5,6,5,7]   # list input\n",
    "print(find_indices(n,lst))"
   ]
  },
  {
   "cell_type": "markdown",
   "id": "4b058379",
   "metadata": {},
   "source": [
    "**3(b). Create a random vector of size 30 and find the mean value**"
   ]
  },
  {
   "cell_type": "code",
   "execution_count": 102,
   "id": "47e2004d",
   "metadata": {},
   "outputs": [
    {
     "name": "stdout",
     "output_type": "stream",
     "text": [
      "Mean : 0.5416042157827737\n"
     ]
    }
   ],
   "source": [
    "# import numpy library\n",
    "import numpy as np\n",
    "x = np.random.random(30)  # Random 30 items variable\n",
    "m = x.mean()  # finding mean\n",
    "print(\"Mean :\",m)  # print mean"
   ]
  },
  {
   "cell_type": "markdown",
   "id": "5eb15cc3",
   "metadata": {},
   "source": [
    "**3(c). Create a 2d array with 1 on its edges and 0 in all other indices**"
   ]
  },
  {
   "cell_type": "code",
   "execution_count": 107,
   "id": "0968f796",
   "metadata": {},
   "outputs": [
    {
     "name": "stdout",
     "output_type": "stream",
     "text": [
      "[[1. 1. 1. 1.]\n",
      " [1. 0. 0. 1.]\n",
      " [1. 0. 0. 1.]\n",
      " [1. 1. 1. 1.]]\n"
     ]
    }
   ],
   "source": [
    "# import numpy library\n",
    "import numpy as np\n",
    "a = np.ones((4,4))   # made a array with 1 in all values\n",
    "a[1:-1,1:-1] = 0     # replacing 1 with o except in edges\n",
    "print(a)"
   ]
  },
  {
   "cell_type": "markdown",
   "id": "b786fadb",
   "metadata": {},
   "source": [
    "**3(d). Write a NumPy program to create a 8x8 matrix and fill it with a checkerboard pattern.**"
   ]
  },
  {
   "cell_type": "code",
   "execution_count": 112,
   "id": "e50e7d68",
   "metadata": {},
   "outputs": [
    {
     "name": "stdout",
     "output_type": "stream",
     "text": [
      "Checkerboard pattern:\n",
      "[[0 1 0 1 0 1 0 1]\n",
      " [1 0 1 0 1 0 1 0]\n",
      " [0 1 0 1 0 1 0 1]\n",
      " [1 0 1 0 1 0 1 0]\n",
      " [0 1 0 1 0 1 0 1]\n",
      " [1 0 1 0 1 0 1 0]\n",
      " [0 1 0 1 0 1 0 1]\n",
      " [1 0 1 0 1 0 1 0]]\n"
     ]
    }
   ],
   "source": [
    "# import numpy library\n",
    "import numpy as np\n",
    "\n",
    "# made a array with 1 in all values\n",
    "x = np.zeros((8,8),dtype=int)\n",
    "\n",
    "# fill with 1 in the alternate rows and columns\n",
    "x[1::2,::2] = 1\n",
    "x[::2, 1::2] = 1\n",
    "\n",
    "print(\"Checkerboard pattern:\")\n",
    "print(x)"
   ]
  },
  {
   "cell_type": "code",
   "execution_count": null,
   "id": "476cba0e",
   "metadata": {},
   "outputs": [],
   "source": []
  }
 ],
 "metadata": {
  "kernelspec": {
   "display_name": "Python 3 (ipykernel)",
   "language": "python",
   "name": "python3"
  },
  "language_info": {
   "codemirror_mode": {
    "name": "ipython",
    "version": 3
   },
   "file_extension": ".py",
   "mimetype": "text/x-python",
   "name": "python",
   "nbconvert_exporter": "python",
   "pygments_lexer": "ipython3",
   "version": "3.9.7"
  }
 },
 "nbformat": 4,
 "nbformat_minor": 5
}
